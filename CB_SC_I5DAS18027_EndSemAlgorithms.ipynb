{
  "nbformat": 4,
  "nbformat_minor": 0,
  "metadata": {
    "colab": {
      "name": "CB.SC.I5DAS18027_EndSemAlgorithms.ipynb",
      "provenance": [],
      "collapsed_sections": [
        "cWFXcSccmxS7",
        "1PhAv4GZLtJa",
        "ksz8hfJXvenx"
      ],
      "authorship_tag": "ABX9TyO9pVayDs+chYDHIKTIzUUL",
      "include_colab_link": true
    },
    "kernelspec": {
      "name": "python3",
      "display_name": "Python 3"
    },
    "language_info": {
      "name": "python"
    }
  },
  "cells": [
    {
      "cell_type": "markdown",
      "metadata": {
        "id": "view-in-github",
        "colab_type": "text"
      },
      "source": [
        "<a href=\"https://colab.research.google.com/github/PragyaAnanth/Parallel-DistributedSystems/blob/main/CB_SC_I5DAS18027_EndSemAlgorithms.ipynb\" target=\"_parent\"><img src=\"https://colab.research.google.com/assets/colab-badge.svg\" alt=\"Open In Colab\"/></a>"
      ]
    },
    {
      "cell_type": "markdown",
      "source": [
        "### **18CSC401 — Parallel and Distributed Systems**\n",
        "### **End Semester Examination — 16th December 2021**\n",
        "# **Implementation of various parallel and distributed computing algorithms**\n",
        "\n",
        "**Faculty:** <br>\n",
        "### **Dr. Prashant R Nair**\n",
        "**Associate Professor, Computer Science Engineering,**\n",
        "**Amrita School of Engineering, Coimbatore <br>**\n",
        "Vice Chairman, Internal Quality Assurance Cell (IQAC), Coimbatore <br>\n",
        "Coordinator, National Board of Accreditation (NBA) <br>\n",
        "<br>\n",
        "\n",
        "**Student Details:** \n",
        "### **Pragya Ananth**\n",
        "### **CB.SC.I5DAS18027**\n",
        "**Integrated M.Sc. Data Science <br>**"
      ],
      "metadata": {
        "id": "2Te8PUatm0aH"
      }
    },
    {
      "cell_type": "code",
      "source": [
        "import pandas as pd\n",
        "import numpy as np\n",
        "from sympy.solvers import solve\n",
        "from sympy import Symbol\n",
        "from math import sqrt"
      ],
      "metadata": {
        "id": "vaKj5IbFmzOF"
      },
      "execution_count": null,
      "outputs": []
    },
    {
      "cell_type": "markdown",
      "source": [
        "# Bully Algorithm"
      ],
      "metadata": {
        "id": "cWFXcSccmxS7"
      }
    },
    {
      "cell_type": "code",
      "source": [
        "def Bully_Algo_Pragya():\n",
        "    def message(sender,numprocc):\n",
        "        m=[]\n",
        "        for i in range(sender+1,numprocc):\n",
        "            m.append(i)\n",
        "        print(\"Messages sent to processes:\",m)\n",
        "        if(len(m)<(numprocc-sender)):\n",
        "            return False\n",
        "        else: return True\n",
        "\n",
        "    def reply(sender,numprocc):\n",
        "        r=[]\n",
        "        for i in range(sender+1,numprocc):\n",
        "            r.append(i)\n",
        "        print(\"Replies received from processes:\",r)\n",
        "        if(len(r)<(numprocc-sender-1)):\n",
        "            return False\n",
        "        else: return True\n",
        "\n",
        "    #The processes\n",
        "    numproc=int(input(\"How many processes are there?  \"))\n",
        "    #Initialise\n",
        "    status=[\"Alive\" for i in range(0,numproc)]\n",
        "    proc=[i for i in range(0,numproc)]\n",
        "    coord=np.max(proc)\n",
        "    print(\"Our coordinator is process number {}\".format(coord))\n",
        "    #Initiating elections\n",
        "    initiator=np.random.choice(proc)\n",
        "    #initiator=4\n",
        "    proc.pop(coord)\n",
        "    numproc-=1\n",
        "    print(\"Coordinator retired and Process number {} has initiated elections\".format(initiator))\n",
        "    alive=message(initiator,numproc)\n",
        "    #print(alive)\n",
        "    if(alive==False):  #This means coordinator has died\n",
        "        rep=reply(initiator,numproc)\n",
        "        #print(rep)\n",
        "        if rep==True: #This means that we receive replies from all superiors\n",
        "            coord=np.max(proc)\n",
        "            print(\"Our coordinator is process number {}\".format(coord))\n",
        "\n",
        "\n",
        "\n",
        "Bully_Algo_Pragya()"
      ],
      "metadata": {
        "colab": {
          "base_uri": "https://localhost:8080/"
        },
        "id": "eogsDGTbm43o",
        "outputId": "632747c6-d2c5-44a3-9657-7a8b9de2cbc6"
      },
      "execution_count": null,
      "outputs": [
        {
          "output_type": "stream",
          "name": "stdout",
          "text": [
            "How many processes are there?  15\n",
            "Our coordinator is process number 14\n",
            "Coordinator retired and Process number 0 has initiated elections\n",
            "Messages sent to processes: [1, 2, 3, 4, 5, 6, 7, 8, 9, 10, 11, 12, 13]\n",
            "Replies received from processes: [1, 2, 3, 4, 5, 6, 7, 8, 9, 10, 11, 12, 13]\n",
            "Our coordinator is process number 13\n"
          ]
        }
      ]
    },
    {
      "cell_type": "code",
      "source": [
        ""
      ],
      "metadata": {
        "id": "zFqythRn4sZf"
      },
      "execution_count": null,
      "outputs": []
    },
    {
      "cell_type": "markdown",
      "source": [
        "# The Byzantine Generals Problem"
      ],
      "metadata": {
        "id": "1PhAv4GZLtJa"
      }
    },
    {
      "cell_type": "markdown",
      "source": [
        "### ***Bitcoin Example and Approach:***\n",
        "**Bitcoin claimed to be one of the first ever people/team/entity to have solved the age-old unsolvable Byzantine Generals problem. Inspired by their method/algorithm/solution, this code is an attempt to implement something on those lines!**"
      ],
      "metadata": {
        "id": "Hb0-lGXwuRXm"
      }
    },
    {
      "cell_type": "markdown",
      "source": [
        "### Trials to solve equations — an approach to use them as a mode to authentication, \n",
        "###to build a **\"Full Consensus Distributed Ledger\"**"
      ],
      "metadata": {
        "id": "jIdCCYE_vS-4"
      }
    },
    {
      "cell_type": "code",
      "source": [
        "x=Symbol('x')\n",
        "eq=x**4-(2*x**3)+(3*x**2)-(8*x)+5\n",
        "ans=solve(eq,x)\n",
        "ans"
      ],
      "metadata": {
        "id": "O3ZW7zAkLvrv",
        "colab": {
          "base_uri": "https://localhost:8080/"
        },
        "outputId": "c5549597-b532-4cb2-a1ef-e1a8fc76a3a1"
      },
      "execution_count": null,
      "outputs": [
        {
          "output_type": "execute_result",
          "data": {
            "text/plain": [
              "[1/2 + sqrt(-2*(sqrt(4299)/36 + 15/8)**(1/3) - 2 - 7/(6*(sqrt(4299)/36 + 15/8)**(1/3)) + 12/sqrt(-1 + 7/(6*(sqrt(4299)/36 + 15/8)**(1/3)) + 2*(sqrt(4299)/36 + 15/8)**(1/3)))/2 + sqrt(-1 + 7/(6*(sqrt(4299)/36 + 15/8)**(1/3)) + 2*(sqrt(4299)/36 + 15/8)**(1/3))/2,\n",
              " -sqrt(-1 + 7/(6*(sqrt(4299)/36 + 15/8)**(1/3)) + 2*(sqrt(4299)/36 + 15/8)**(1/3))/2 + 1/2 - sqrt(-12/sqrt(-1 + 7/(6*(sqrt(4299)/36 + 15/8)**(1/3)) + 2*(sqrt(4299)/36 + 15/8)**(1/3)) - 2*(sqrt(4299)/36 + 15/8)**(1/3) - 2 - 7/(6*(sqrt(4299)/36 + 15/8)**(1/3)))/2,\n",
              " -sqrt(-1 + 7/(6*(sqrt(4299)/36 + 15/8)**(1/3)) + 2*(sqrt(4299)/36 + 15/8)**(1/3))/2 + 1/2 + sqrt(-12/sqrt(-1 + 7/(6*(sqrt(4299)/36 + 15/8)**(1/3)) + 2*(sqrt(4299)/36 + 15/8)**(1/3)) - 2*(sqrt(4299)/36 + 15/8)**(1/3) - 2 - 7/(6*(sqrt(4299)/36 + 15/8)**(1/3)))/2,\n",
              " -sqrt(-2*(sqrt(4299)/36 + 15/8)**(1/3) - 2 - 7/(6*(sqrt(4299)/36 + 15/8)**(1/3)) + 12/sqrt(-1 + 7/(6*(sqrt(4299)/36 + 15/8)**(1/3)) + 2*(sqrt(4299)/36 + 15/8)**(1/3)))/2 + 1/2 + sqrt(-1 + 7/(6*(sqrt(4299)/36 + 15/8)**(1/3)) + 2*(sqrt(4299)/36 + 15/8)**(1/3))/2]"
            ]
          },
          "metadata": {},
          "execution_count": 3
        }
      ]
    },
    {
      "cell_type": "code",
      "source": [
        "vari=input(\"Enter variable:  \")\n",
        "x=Symbol(vari)\n",
        "eq=(3*x**2)-(8*x)+5\n",
        "ans=solve(eq,x)\n",
        "ans"
      ],
      "metadata": {
        "colab": {
          "base_uri": "https://localhost:8080/"
        },
        "id": "PHu828FHtmUY",
        "outputId": "9131119f-6cda-4f17-feb3-c92d4e9d133f"
      },
      "execution_count": null,
      "outputs": [
        {
          "name": "stdout",
          "output_type": "stream",
          "text": [
            "Enter variable:  x\n"
          ]
        },
        {
          "output_type": "execute_result",
          "data": {
            "text/plain": [
              "[1, 5/3]"
            ]
          },
          "metadata": {},
          "execution_count": 7
        }
      ]
    },
    {
      "cell_type": "markdown",
      "source": [
        "## The Byzantine Generals Problem"
      ],
      "metadata": {
        "id": "ksz8hfJXvenx"
      }
    },
    {
      "cell_type": "code",
      "source": [
        "def Byzantine_Gen_Pragya():\n",
        "    def LedgerUpdates(emperor_array,general_array):\n",
        "        for position, value in enumerate(emperor_array):\n",
        "            general_array[position]=float(value)\n",
        "        return general_array\n",
        "    def GetCodeFromTheOtherArmy():\n",
        "        vari=input(\"Enter variable:  \")\n",
        "        x=Symbol(vari)\n",
        "        eq=input(\"Enter equation:  \")\n",
        "        ans=solve(eq,x)\n",
        "        for index,valu in enumerate(ans):\n",
        "            ans[index]=float(valu)\n",
        "        return ans\n",
        "\n",
        "    ea=[1, 5/3]         #Must hardcode the general's result to the secret equation\n",
        "    g1=['a' for i in range(len(ea))]\n",
        "    g2=['a' for i in range(len(ea))]\n",
        "    g3=['a' for i in range(len(ea))]\n",
        "    g1=LedgerUpdates(ea,g1)\n",
        "    g2=LedgerUpdates(ea,g2)\n",
        "    g3=LedgerUpdates(ea,g3)\n",
        "    aa=GetCodeFromTheOtherArmy()\n",
        "    print(\"The 3 Generals' Ledgers and the Emperor's Ledger: {},{},{},{}\".format(g1,g2,g3,ea))\n",
        "    print(\"Army's Ledger reads:\",aa)\n",
        "    if (g1==aa and g2==aa and g3==aa):\n",
        "        print(\"\\n /// Congratulations! Message received and matches the emperor and all 3 generals! All the best! ///\")\n",
        "    else:\n",
        "        print(\"\\n /// STAY OUT YOU IMPOSTOR! ///\")\n",
        "\n",
        "\n",
        "Byzantine_Gen_Pragya()"
      ],
      "metadata": {
        "colab": {
          "base_uri": "https://localhost:8080/"
        },
        "id": "aGAj2lq1txrr",
        "outputId": "47a40122-73bb-4ff2-b156-2a843d7b5c6b"
      },
      "execution_count": null,
      "outputs": [
        {
          "output_type": "stream",
          "name": "stdout",
          "text": [
            "Enter variable:  x\n",
            "Enter equation:  (3*x**2)-(8*x)+5\n",
            "The 3 Generals' Ledgers and the Emperor's Ledger: [1.0, 1.6666666666666667],[1.0, 1.6666666666666667],[1.0, 1.6666666666666667],[1, 1.6666666666666667]\n",
            "Army's Ledger reads: [1.0, 1.6666666666666667]\n",
            "\n",
            " /// Congratulations! Message received and matches the emperor and all 3 generals! All the best! ///\n"
          ]
        }
      ]
    },
    {
      "cell_type": "code",
      "source": [
        "def Byzantine_Gen_Pragya():\n",
        "    def LedgerUpdates(emperor_array,general_array):\n",
        "        for position, value in enumerate(emperor_array):\n",
        "            general_array[position]=float(value)\n",
        "        return general_array\n",
        "    def GetCodeFromTheOtherArmy():\n",
        "        vari=input(\"Enter variable:  \")\n",
        "        x=Symbol(vari)\n",
        "        eq=input(\"Enter equation:  \")\n",
        "        ans=solve(eq,x)\n",
        "        for index,valu in enumerate(ans):\n",
        "            ans[index]=float(valu)\n",
        "        return ans\n",
        "\n",
        "    ea=[1, 5/3]            #Must hardcode the general's result to the secret equation\n",
        "    g1=['a' for i in range(len(ea))]\n",
        "    g2=['a' for i in range(len(ea))]\n",
        "    g3=['a' for i in range(len(ea))]\n",
        "    g1=LedgerUpdates(ea,g1)\n",
        "    g2=LedgerUpdates(ea,g2)\n",
        "    g3=LedgerUpdates(ea,g3)\n",
        "    aa=GetCodeFromTheOtherArmy()\n",
        "    print(\"The 3 Generals' Ledgers and the Emperor's Ledger: {},{},{},{}\".format(g1,g2,g3,ea))\n",
        "    print(\"Army's Ledger reads:\",aa)\n",
        "    if (g1==aa and g2==aa and g3==aa):\n",
        "        print(\"\\n /// Congratulations! Message received and matches the emperor and all 3 generals! All the best! ///\")\n",
        "    else:\n",
        "        print(\"\\n /// STAY OUT YOU IMPOSTOR! ///\")\n",
        "\n",
        "\n",
        "Byzantine_Gen_Pragya()"
      ],
      "metadata": {
        "colab": {
          "base_uri": "https://localhost:8080/"
        },
        "id": "eUCsVvhZ1uET",
        "outputId": "7bd9e5bf-5ffc-4b3c-80ae-0c0502fa24be"
      },
      "execution_count": null,
      "outputs": [
        {
          "output_type": "stream",
          "name": "stdout",
          "text": [
            "Enter variable:  y\n",
            "Enter equation:  (15*y**3)-(37*y**2)+y\n",
            "The 3 Generals' Ledgers and the Emperor's Ledger: [1.0, 1.6666666666666667],[1.0, 1.6666666666666667],[1.0, 1.6666666666666667],[1, 1.6666666666666667]\n",
            "Army's Ledger reads: [0.0, 0.02732983232496377, 2.439336834341703]\n",
            "\n",
            " /// STAY OUT YOU IMPOSTOR! ///\n"
          ]
        }
      ]
    },
    {
      "cell_type": "code",
      "source": [
        "def Byzantine_Gen_Pragya():\n",
        "    def LedgerUpdates(emperor_array,general_array):\n",
        "        for position, value in enumerate(emperor_array):\n",
        "            general_array[position]=float(value)\n",
        "        return general_array\n",
        "    def GetCodeFromTheOtherArmy():\n",
        "        vari=input(\"Enter variable:  \")\n",
        "        x=Symbol(vari)\n",
        "        eq=input(\"Enter equation:  \")\n",
        "        ans=solve(eq,x)\n",
        "        for index,valu in enumerate(ans):\n",
        "            ans[index]=float(valu)\n",
        "        return ans\n",
        "\n",
        "    ea=[1, 5/3,34,56,12]            #Must hardcode the general's result to the secret equation\n",
        "    g1=['a' for i in range(len(ea))]\n",
        "    g2=['a' for i in range(len(ea))]\n",
        "    g3=['a' for i in range(len(ea))]\n",
        "    g1=LedgerUpdates(ea,g1)\n",
        "    g2=LedgerUpdates(ea,g2)\n",
        "    g3=LedgerUpdates(ea,g3)\n",
        "    aa=GetCodeFromTheOtherArmy()\n",
        "    print(\"The 3 Generals' Ledgers and the Emperor's Ledger: {},{},{},{}\".format(g1,g2,g3,ea))\n",
        "    print(\"Army's Ledger reads:\",aa)\n",
        "    if (g1==aa and g2==aa and g3==aa):\n",
        "        print(\"\\n /// Congratulations! Message received and matches the emperor and all 3 generals! All the best! ///\")\n",
        "    else:\n",
        "        print(\"\\n /// STAY OUT YOU IMPOSTOR! ///\")\n",
        "\n",
        "\n",
        "Byzantine_Gen_Pragya()"
      ],
      "metadata": {
        "id": "xGYZvoQU_kIN",
        "colab": {
          "base_uri": "https://localhost:8080/"
        },
        "outputId": "7ddbfb01-d411-4f6a-dcee-2a587aa9b1d6"
      },
      "execution_count": null,
      "outputs": [
        {
          "output_type": "stream",
          "name": "stdout",
          "text": [
            "Enter variable:  p\n",
            "Enter equation:  (15*p**3)-(37*p**2)+p\n",
            "The 3 Generals' Ledgers and the Emperor's Ledger: [1.0, 1.6666666666666667, 34.0, 56.0, 12.0],[1.0, 1.6666666666666667, 34.0, 56.0, 12.0],[1.0, 1.6666666666666667, 34.0, 56.0, 12.0],[1, 1.6666666666666667, 34, 56, 12]\n",
            "Army's Ledger reads: [0.0, 0.02732983232496377, 2.439336834341703]\n",
            "\n",
            " /// STAY OUT YOU IMPOSTOR! ///\n"
          ]
        }
      ]
    },
    {
      "cell_type": "code",
      "source": [
        ""
      ],
      "metadata": {
        "id": "noAusVxo4RTP"
      },
      "execution_count": null,
      "outputs": []
    },
    {
      "cell_type": "markdown",
      "source": [
        "# Semaphores"
      ],
      "metadata": {
        "id": "UdfYkFmpFx1Y"
      }
    },
    {
      "cell_type": "code",
      "source": [
        "def Semaphore_Pragya():\n",
        "    n=int(input(\"How many threads?:    \"))\n",
        "    permission=['Free' for i in range(n)]\n",
        "    print(\"\\n Initial permissions log: \\n\",permission)\n",
        "    ran_num_of_threads=np.random.randint(0,n)    #Choosing a random number of threads to ask for resources\n",
        "    for i in range(ran_num_of_threads,n):\n",
        "        permission[i]='Taken'\n",
        "    print(\"\\n Current permissions log: \\n\",permission)\n",
        "    random_thread=np.random.randint(0,n)    #Choosing a random thread to ask for resources\n",
        "    print(\"\\n Thread number {} has asked for resources\".format(random_thread))\n",
        "    if permission[i]==\"Free\":\n",
        "        print(\"\\n /// Here you go Mr.Thread! /// \\n\")\n",
        "    else: print(\"\\n /// Sorry Mr. Thread, you have to wait for a bit! /// \\n\")"
      ],
      "metadata": {
        "id": "JdJesZhJGAkz"
      },
      "execution_count": null,
      "outputs": []
    },
    {
      "cell_type": "code",
      "source": [
        "Semaphore_Pragya()"
      ],
      "metadata": {
        "colab": {
          "base_uri": "https://localhost:8080/"
        },
        "id": "Oyvk2ER4HI3B",
        "outputId": "f7f20b3c-bd61-4d24-8266-e0e3736252c9"
      },
      "execution_count": null,
      "outputs": [
        {
          "output_type": "stream",
          "name": "stdout",
          "text": [
            "How many threads?:    21\n",
            "\n",
            " Initial permissions log: \n",
            " ['Free', 'Free', 'Free', 'Free', 'Free', 'Free', 'Free', 'Free', 'Free', 'Free', 'Free', 'Free', 'Free', 'Free', 'Free', 'Free', 'Free', 'Free', 'Free', 'Free', 'Free']\n",
            "\n",
            " Current permissions log: \n",
            " ['Free', 'Free', 'Free', 'Free', 'Free', 'Free', 'Free', 'Free', 'Free', 'Free', 'Free', 'Free', 'Free', 'Free', 'Taken', 'Taken', 'Taken', 'Taken', 'Taken', 'Taken', 'Taken']\n",
            "\n",
            " Thread number 9 has asked for resources\n",
            "\n",
            " /// Sorry Mr. Thread, you have to wait for a bit! /// \n",
            "\n"
          ]
        }
      ]
    },
    {
      "cell_type": "code",
      "source": [
        ""
      ],
      "metadata": {
        "id": "cIWk6EwdHKnl"
      },
      "execution_count": null,
      "outputs": []
    }
  ]
}