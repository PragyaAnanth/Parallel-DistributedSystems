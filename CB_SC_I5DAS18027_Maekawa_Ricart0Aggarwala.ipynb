{
  "nbformat": 4,
  "nbformat_minor": 0,
  "metadata": {
    "colab": {
      "name": "CB.SC.I5DAS18027 - Maekawa-Ricart0Aggarwala.ipynb",
      "provenance": [],
      "collapsed_sections": [
        "ff5IkCKx36zA",
        "ES3r1els3_Cp",
        "hNB2Xm8D34_S",
        "VswlemPmZbVJ"
      ],
      "authorship_tag": "ABX9TyOaEd+ei2TCuZ4OkDB4p4MT",
      "include_colab_link": true
    },
    "kernelspec": {
      "name": "python3",
      "display_name": "Python 3"
    },
    "language_info": {
      "name": "python"
    }
  },
  "cells": [
    {
      "cell_type": "markdown",
      "metadata": {
        "id": "view-in-github",
        "colab_type": "text"
      },
      "source": [
        "<a href=\"https://colab.research.google.com/github/PragyaAnanth/Parallel-DistributedSystems/blob/main/CB_SC_I5DAS18027_Maekawa_Ricart0Aggarwala.ipynb\" target=\"_parent\"><img src=\"https://colab.research.google.com/assets/colab-badge.svg\" alt=\"Open In Colab\"/></a>"
      ]
    },
    {
      "cell_type": "markdown",
      "metadata": {
        "id": "ff5IkCKx36zA"
      },
      "source": [
        "# Maekawa Trials"
      ]
    },
    {
      "cell_type": "markdown",
      "metadata": {
        "id": "ES3r1els3_Cp"
      },
      "source": [
        "## Trial 1"
      ]
    },
    {
      "cell_type": "code",
      "metadata": {
        "colab": {
          "base_uri": "https://localhost:8080/"
        },
        "id": "14HYp0Gj2xwJ",
        "outputId": "1ab96544-4fb9-4454-ee93-4489c1f7573a"
      },
      "source": [
        "!pip install config\n",
        "!pip install node\n",
        "!pip install Node "
      ],
      "execution_count": null,
      "outputs": [
        {
          "output_type": "stream",
          "name": "stdout",
          "text": [
            "Requirement already satisfied: config in /usr/local/lib/python3.7/dist-packages (0.5.1)\n",
            "Requirement already satisfied: node in /usr/local/lib/python3.7/dist-packages (0.9.26)\n",
            "Requirement already satisfied: zope.component in /usr/local/lib/python3.7/dist-packages (from node) (5.0.1)\n",
            "Requirement already satisfied: odict>=1.7.0 in /usr/local/lib/python3.7/dist-packages (from node) (1.7.0)\n",
            "Requirement already satisfied: plumber>1.4.99 in /usr/local/lib/python3.7/dist-packages (from node) (1.6)\n",
            "Requirement already satisfied: zope.deprecation in /usr/local/lib/python3.7/dist-packages (from node) (4.4.0)\n",
            "Requirement already satisfied: zope.lifecycleevent in /usr/local/lib/python3.7/dist-packages (from node) (4.3)\n",
            "Requirement already satisfied: setuptools in /usr/local/lib/python3.7/dist-packages (from node) (57.4.0)\n",
            "Requirement already satisfied: zope.interface>=5.3.0a1 in /usr/local/lib/python3.7/dist-packages (from zope.component->node) (5.4.0)\n",
            "Requirement already satisfied: zope.hookable>=4.2.0 in /usr/local/lib/python3.7/dist-packages (from zope.component->node) (5.1.0)\n",
            "Requirement already satisfied: zope.event in /usr/local/lib/python3.7/dist-packages (from zope.component->node) (4.5.0)\n",
            "Requirement already satisfied: Node in /usr/local/lib/python3.7/dist-packages (0.9.26)\n",
            "Requirement already satisfied: odict>=1.7.0 in /usr/local/lib/python3.7/dist-packages (from Node) (1.7.0)\n",
            "Requirement already satisfied: plumber>1.4.99 in /usr/local/lib/python3.7/dist-packages (from Node) (1.6)\n",
            "Requirement already satisfied: zope.component in /usr/local/lib/python3.7/dist-packages (from Node) (5.0.1)\n",
            "Requirement already satisfied: zope.deprecation in /usr/local/lib/python3.7/dist-packages (from Node) (4.4.0)\n",
            "Requirement already satisfied: setuptools in /usr/local/lib/python3.7/dist-packages (from Node) (57.4.0)\n",
            "Requirement already satisfied: zope.lifecycleevent in /usr/local/lib/python3.7/dist-packages (from Node) (4.3)\n",
            "Requirement already satisfied: zope.interface>=5.3.0a1 in /usr/local/lib/python3.7/dist-packages (from zope.component->Node) (5.4.0)\n",
            "Requirement already satisfied: zope.hookable>=4.2.0 in /usr/local/lib/python3.7/dist-packages (from zope.component->Node) (5.1.0)\n",
            "Requirement already satisfied: zope.event in /usr/local/lib/python3.7/dist-packages (from zope.component->Node) (4.5.0)\n"
          ]
        }
      ]
    },
    {
      "cell_type": "code",
      "metadata": {
        "colab": {
          "base_uri": "https://localhost:8080/",
          "height": 373
        },
        "id": "ezORgHBE2lJ4",
        "outputId": "be9e91c5-e373-44f9-abe0-4085f13bda8f"
      },
      "source": [
        "import config\n",
        "from node import Node\n",
        "\n",
        "\n",
        "class MaekawaMutex(object):\n",
        "    \"\"\"Class that implements and runs Maekawa mutual exclusion algorithm\"\"\"\n",
        "    def __init__(self, cs_int, next_req, option):\n",
        "        Node.CS_INT = cs_int\n",
        "        Node.NEXT_REQ = next_req\n",
        "        Node.OPTION = option\n",
        "        self._nodes = [Node(i) for i in xrange(config.NUM_NODE)]\n",
        "\n",
        "    def _build_connection(self):\n",
        "        for node in self._nodes:\n",
        "            node.build_connection(config.NUM_NODE)\n",
        "\n",
        "    def run(self):\n",
        "        self._build_connection()\n",
        "        for node in self._nodes:\n",
        "            node.run()"
      ],
      "execution_count": null,
      "outputs": [
        {
          "output_type": "error",
          "ename": "ImportError",
          "evalue": "ignored",
          "traceback": [
            "\u001b[0;31m---------------------------------------------------------------------------\u001b[0m",
            "\u001b[0;31mImportError\u001b[0m                               Traceback (most recent call last)",
            "\u001b[0;32m<ipython-input-9-a0f245262e7f>\u001b[0m in \u001b[0;36m<module>\u001b[0;34m()\u001b[0m\n\u001b[1;32m      1\u001b[0m \u001b[0;32mimport\u001b[0m \u001b[0mconfig\u001b[0m\u001b[0;34m\u001b[0m\u001b[0;34m\u001b[0m\u001b[0m\n\u001b[0;32m----> 2\u001b[0;31m \u001b[0;32mfrom\u001b[0m \u001b[0mnode\u001b[0m \u001b[0;32mimport\u001b[0m \u001b[0mNode\u001b[0m\u001b[0;34m\u001b[0m\u001b[0;34m\u001b[0m\u001b[0m\n\u001b[0m\u001b[1;32m      3\u001b[0m \u001b[0;34m\u001b[0m\u001b[0m\n\u001b[1;32m      4\u001b[0m \u001b[0;34m\u001b[0m\u001b[0m\n\u001b[1;32m      5\u001b[0m \u001b[0;32mclass\u001b[0m \u001b[0mMaekawaMutex\u001b[0m\u001b[0;34m(\u001b[0m\u001b[0mobject\u001b[0m\u001b[0;34m)\u001b[0m\u001b[0;34m:\u001b[0m\u001b[0;34m\u001b[0m\u001b[0;34m\u001b[0m\u001b[0m\n",
            "\u001b[0;31mImportError\u001b[0m: cannot import name 'Node' from 'node' (unknown location)",
            "",
            "\u001b[0;31m---------------------------------------------------------------------------\u001b[0;32m\nNOTE: If your import is failing due to a missing package, you can\nmanually install dependencies using either !pip or !apt.\n\nTo view examples of installing some common dependencies, click the\n\"Open Examples\" button below.\n\u001b[0;31m---------------------------------------------------------------------------\u001b[0m\n"
          ],
          "errorDetails": {
            "actions": [
              {
                "action": "open_url",
                "actionText": "Open Examples",
                "url": "/notebooks/snippets/importing_libraries.ipynb"
              }
            ]
          }
        }
      ]
    },
    {
      "cell_type": "markdown",
      "metadata": {
        "id": "hNB2Xm8D34_S"
      },
      "source": [
        "## Trial 2"
      ]
    },
    {
      "cell_type": "code",
      "metadata": {
        "colab": {
          "base_uri": "https://localhost:8080/"
        },
        "id": "9ltXa-pa4E_3",
        "outputId": "ee8dc8ce-4d38-4e5f-9396-abe9cf11d53a"
      },
      "source": [
        "!pip install Queue"
      ],
      "execution_count": null,
      "outputs": [
        {
          "output_type": "stream",
          "name": "stdout",
          "text": [
            "\u001b[31mERROR: Could not find a version that satisfies the requirement Queue (from versions: none)\u001b[0m\n",
            "\u001b[31mERROR: No matching distribution found for Queue\u001b[0m\n"
          ]
        }
      ]
    },
    {
      "cell_type": "code",
      "metadata": {
        "colab": {
          "base_uri": "https://localhost:8080/",
          "height": 235
        },
        "id": "yDpmd_gp2t-i",
        "outputId": "eb96b3b8-0a8c-400d-b023-72acb660439f"
      },
      "source": [
        "import math\n",
        "import sys\n",
        "import queue\n",
        "import threading\n",
        "from termcolor import colored\n",
        "import time\n",
        "import random\n",
        "import copy\n",
        "\n",
        "\n",
        "N = 9\n",
        "n = int(math.sqrt(N))\n",
        "assert math.sqrt(N) ** 2 == N, \"N must be a square number\"\n",
        "assert len(sys.argv) == 5, \"Require {} arguments to function, given {}\".format(\n",
        "4, len(sys.argv) - 1)\n",
        "try:\n",
        "    cs_int = int(sys.argv[1])\n",
        "    next_req = int(sys.argv[2])\n",
        "    tot_exec_time = int(sys.argv[3])\n",
        "    option = int(sys.argv[4])\n",
        "except ValueError:\n",
        "    print( \"Invalid command line arguments provided. Require integers.\")\n",
        "    sys.exit(1)\n",
        "\n",
        "\n",
        "def main():\n",
        "    # Each element of threads is a list with the following indices\n",
        "    # 0: message queue\n",
        "    # 1: dictionary used to track various variables for each\n",
        "    # 2: thread object\n",
        "    global threads\n",
        "    threads = []\n",
        "    threads.append(None)\n",
        "\n",
        "    # Initialize threads\n",
        "    for x in range(1, N + 1):\n",
        "        a = []\n",
        "        a.append(Queue.PriorityQueue())\n",
        "        a.append({})\n",
        "        a.append(threading.Thread(target=main_thread_function, args=(x,)))\n",
        "        threads.append(a)\n",
        "\n",
        "    # Start threads\n",
        "    shuffled = range(1, N + 1)\n",
        "    random.shuffle(shuffled)\n",
        "    for x in shuffled:\n",
        "        threads[x][1]['sem'] = threading.Semaphore()\n",
        "        threads[x][1]['vote'] = None\n",
        "        threads[x][1]['nodes'] = []\n",
        "        threads[x][2].daemon = True\n",
        "        threads[x][2].start()\n",
        "    time.sleep(tot_exec_time)\n",
        "\n",
        "\n",
        "def main_thread_function(thread_id):\n",
        "    threads[thread_id][1]['state'] = \"Idle\"\n",
        "    threads[thread_id][1]['child'] = threading.Thread(\n",
        "        target=message_handler_threads, args=(thread_id,))\n",
        "    threads[thread_id][1]['child'].daemon = True\n",
        "    threads[thread_id][1]['child'].start()\n",
        "    while 1:\n",
        "        r_time = time.time()  # r_time = random.random()  #\n",
        "        # print \"{} - Requesting Critical\".format(thread_id)\n",
        "        while 1:\n",
        "            threads[thread_id][1]['state'] = \"Requesting\"\n",
        "            threads[thread_id][1]['sem'] = threading.Semaphore()\n",
        "            request_critical(thread_id, r_time=r_time)\n",
        "            wait_for_critical(thread_id)\n",
        "            if threads[thread_id][1]['state'] is not \"Failed\":\n",
        "                break\n",
        "        print (\"{} - Acquired from {}\".format(thread_id, \" \".join([str(x) for x in threads[thread_id][1]['nodes']])))\n",
        "        threads[thread_id][1]['state'] = \"Acquired\"\n",
        "        time.sleep(cs_int / 1000.0)\n",
        "        print (\"{} - Released\".format(thread_id))\n",
        "        release_critical(thread_id, r_time=r_time)\n",
        "        threads[thread_id][1]['state'] = \"Idle\"\n",
        "        time.sleep(next_req / 1000.0)\n",
        "\n",
        "\n",
        "def wait_for_critical(thread_id):\n",
        "    for x in range(0, 2 * n):\n",
        "        threads[thread_id][1]['sem'].acquire()\n",
        "\n",
        "\n",
        "def message_handler_threads(thread_id):\n",
        "    while 1:\n",
        "        time, msg = threads[thread_id][0].get()\n",
        "        time = copy.copy(time)\n",
        "        msg = copy.copy(msg)\n",
        "        # if msg['action'] is not \"request\" and msg['action'] is not \"grant\":\n",
        "        #    print \"\\t{} - Received {} from {}\\n\".format(thread_id, msg['action'], msg['src']),\n",
        "        if msg['action'] is \"request\":\n",
        "            if threads[thread_id][1]['vote'] is None:\n",
        "                send_grant_message(thread_id, msg)\n",
        "            else:\n",
        "                if threads[thread_id][1]['vote'][0] > msg['tstamp']:\n",
        "                    if threads[thread_id][1]['vote'][1] == msg['src']:\n",
        "                        send_grant_message(thread_id, msg)\n",
        "                    else:\n",
        "                        send_inquire_message(thread_id, msg)\n",
        "                else:\n",
        "                    if threads[thread_id][1]['vote'][1] == msg['src'] and threads[thread_id][1]['vote'][0] == msg['tstamp']:\n",
        "                        send_grant_message(thread_id, msg)\n",
        "                    else:\n",
        "                        threads[thread_id][0].put((msg['tstamp'], msg))\n",
        "        elif msg['action'] is \"grant\":\n",
        "            if msg['src'] not in threads[thread_id][1]['nodes']:\n",
        "                threads[thread_id][1]['nodes'].append(msg['src'])\n",
        "                print (\"\\t{}({:.6f}) - Received {} from {}. Votes: {}\\n\".format(thread_id, msg['tstamp'], msg['action'], msg['src'], \" \".join([str(x) for x in threads[thread_id][1]['nodes']])),)\n",
        "                threads[thread_id][1]['sem'].release()\n",
        "        elif msg['action'] is \"release\":\n",
        "            threads[thread_id][1]['vote'] = None\n",
        "        elif msg['action'] is \"failed\":\n",
        "            msg['action'] = 'request'\n",
        "            msg['src'] = msg['alternative']\n",
        "            msg.pop('alternative')\n",
        "            threads[thread_id][0].put((msg['tstamp'], msg))\n",
        "        elif msg['action'] is \"inquire\":\n",
        "            state = threads[thread_id][1]['state']\n",
        "            if (state is \"Requesting\" or state is \"Idle\"):\n",
        "                threads[thread_id][1]['state'] = \"Failed\"\n",
        "                for x in range(2 * n):\n",
        "                    threads[thread_id][1]['sem'].release()\n",
        "                send_relinquish_message(thread_id, msg)\n",
        "            else:\n",
        "                send_failed_message(thread_id, msg)\n",
        "        elif msg['action'] is \"relinquish\":\n",
        "            if threads[thread_id][1]['vote'] is not None and threads[thread_id][1]['vote'][1] is msg['src']:\n",
        "                msg['src'] = msg['alternative']\n",
        "                msg['action'] = \"grant\"\n",
        "                msg.pop('alternative')\n",
        "                send_grant_message(thread_id, msg)\n",
        "            else:\n",
        "                print (\"\\t{} - Old RELINQUISH received from {}. Alternative: {}.\\n\".format(thread_id, msg['src'], msg['alternative']),)\n",
        "        else:\n",
        "            print (colored(\"Unknown action '{}' received!\", \"red\").format(msg['action']))\n",
        "\n",
        "\n",
        "def send_message(dst, msg):\n",
        "    threads[dst][0].put((msg['tstamp'], msg))\n",
        "\n",
        "\n",
        "# Reply to src.\n",
        "def send_grant_message(thread_id, imsg):\n",
        "    # print \"\\t{} sending GRANT to {}\\n\".format(thread_id, imsg['src']),\n",
        "    threads[thread_id][1]['vote'] = (imsg['tstamp'], imsg['src'])\n",
        "    imsg['action'] = 'grant'\n",
        "    dst = imsg['src']\n",
        "    imsg['src'] = thread_id\n",
        "    send_message(dst, imsg)\n",
        "\n",
        "\n",
        "# Reply to src with original message.\n",
        "def send_failed_message(thread_id, imsg):\n",
        "    # print \"\\t{} sending FAILED to {}. State: {}\\n\".format(thread_id, imsg['src'], threads[thread_id][1]['state']),\n",
        "    dst = imsg['src']\n",
        "    imsg['src'] = thread_id\n",
        "    imsg['action'] = 'failed'\n",
        "    send_message(dst, imsg)\n",
        "\n",
        "\n",
        "# Reply to current voted node with same message, set alternative.\n",
        "def send_inquire_message(thread_id, imsg):\n",
        "    # print \"\\t{} sending INQUIRE to {}. Alternative: {}\\n\".format(thread_id, threads[thread_id][1]['vote'][1], imsg['src']),\n",
        "    imsg['alternative'] = imsg['src']\n",
        "    imsg['src'] = thread_id\n",
        "    imsg['action'] = 'inquire'\n",
        "    send_message(threads[thread_id][1]['vote'][1], imsg)\n",
        "\n",
        "\n",
        "# Reply to src with same message.\n",
        "def send_relinquish_message(thread_id, imsg):\n",
        "    dst = imsg['src']\n",
        "    imsg['src'] = thread_id\n",
        "    imsg['action'] = 'relinquish'\n",
        "    send_message(dst, imsg)\n",
        "\n",
        "\n",
        "def request_critical(thread_id, r_time=time.time()):\n",
        "    threads[thread_id][1]['nodes'] = []\n",
        "    msg = {\n",
        "        \"action\": \"request\",\n",
        "        \"src\": thread_id,\n",
        "        \"tstamp\": r_time\n",
        "    }\n",
        "    send_to_voting_set(thread_id, msg)\n",
        "\n",
        "\n",
        "def release_critical(thread_id, r_time=time.time()):\n",
        "    msg = {\n",
        "        \"action\": \"release\",\n",
        "        \"src\": thread_id,\n",
        "        \"tstamp\": r_time\n",
        "    }\n",
        "    send_to_voting_set(thread_id, msg)\n",
        "\n",
        "\n",
        "def send_to_voting_set(thread_id, msg):\n",
        "    try:\n",
        "        gen = voting_set(thread_id)\n",
        "        while 1:\n",
        "            send_message(gen.next(), msg)\n",
        "    except StopIteration:\n",
        "        pass\n",
        "\n",
        "\n",
        "def voting_set(me):\n",
        "    for x in range(1, N + 1):\n",
        "        if x % n == me % n and x != me:\n",
        "            yield x\n",
        "    me = me - 1\n",
        "    for x in range((me / n) * n + 1, (me / n) * n + n + 1):\n",
        "        yield x\n",
        "\n",
        "\n",
        "if __name__ == \"__main__\":\n",
        "    sys.exit(main())"
      ],
      "execution_count": null,
      "outputs": [
        {
          "output_type": "error",
          "ename": "AssertionError",
          "evalue": "ignored",
          "traceback": [
            "\u001b[0;31m---------------------------------------------------------------------------\u001b[0m",
            "\u001b[0;31mAssertionError\u001b[0m                            Traceback (most recent call last)",
            "\u001b[0;32m<ipython-input-15-ce0e04459fc5>\u001b[0m in \u001b[0;36m<module>\u001b[0;34m()\u001b[0m\n\u001b[1;32m     12\u001b[0m \u001b[0mn\u001b[0m \u001b[0;34m=\u001b[0m \u001b[0mint\u001b[0m\u001b[0;34m(\u001b[0m\u001b[0mmath\u001b[0m\u001b[0;34m.\u001b[0m\u001b[0msqrt\u001b[0m\u001b[0;34m(\u001b[0m\u001b[0mN\u001b[0m\u001b[0;34m)\u001b[0m\u001b[0;34m)\u001b[0m\u001b[0;34m\u001b[0m\u001b[0;34m\u001b[0m\u001b[0m\n\u001b[1;32m     13\u001b[0m \u001b[0;32massert\u001b[0m \u001b[0mmath\u001b[0m\u001b[0;34m.\u001b[0m\u001b[0msqrt\u001b[0m\u001b[0;34m(\u001b[0m\u001b[0mN\u001b[0m\u001b[0;34m)\u001b[0m \u001b[0;34m**\u001b[0m \u001b[0;36m2\u001b[0m \u001b[0;34m==\u001b[0m \u001b[0mN\u001b[0m\u001b[0;34m,\u001b[0m \u001b[0;34m\"N must be a square number\"\u001b[0m\u001b[0;34m\u001b[0m\u001b[0;34m\u001b[0m\u001b[0m\n\u001b[0;32m---> 14\u001b[0;31m \u001b[0;32massert\u001b[0m \u001b[0mlen\u001b[0m\u001b[0;34m(\u001b[0m\u001b[0msys\u001b[0m\u001b[0;34m.\u001b[0m\u001b[0margv\u001b[0m\u001b[0;34m)\u001b[0m \u001b[0;34m==\u001b[0m \u001b[0;36m5\u001b[0m\u001b[0;34m,\u001b[0m \u001b[0;34m\"Require {} arguments to function, given {}\"\u001b[0m\u001b[0;34m.\u001b[0m\u001b[0mformat\u001b[0m\u001b[0;34m(\u001b[0m\u001b[0;36m4\u001b[0m\u001b[0;34m,\u001b[0m \u001b[0mlen\u001b[0m\u001b[0;34m(\u001b[0m\u001b[0msys\u001b[0m\u001b[0;34m.\u001b[0m\u001b[0margv\u001b[0m\u001b[0;34m)\u001b[0m \u001b[0;34m-\u001b[0m \u001b[0;36m1\u001b[0m\u001b[0;34m)\u001b[0m\u001b[0;34m\u001b[0m\u001b[0;34m\u001b[0m\u001b[0m\n\u001b[0m\u001b[1;32m     15\u001b[0m \u001b[0;32mtry\u001b[0m\u001b[0;34m:\u001b[0m\u001b[0;34m\u001b[0m\u001b[0;34m\u001b[0m\u001b[0m\n\u001b[1;32m     16\u001b[0m     \u001b[0mcs_int\u001b[0m \u001b[0;34m=\u001b[0m \u001b[0mint\u001b[0m\u001b[0;34m(\u001b[0m\u001b[0msys\u001b[0m\u001b[0;34m.\u001b[0m\u001b[0margv\u001b[0m\u001b[0;34m[\u001b[0m\u001b[0;36m1\u001b[0m\u001b[0;34m]\u001b[0m\u001b[0;34m)\u001b[0m\u001b[0;34m\u001b[0m\u001b[0;34m\u001b[0m\u001b[0m\n",
            "\u001b[0;31mAssertionError\u001b[0m: Require 4 arguments to function, given 2"
          ]
        }
      ]
    },
    {
      "cell_type": "code",
      "metadata": {
        "id": "GnY9Z82P3e_1"
      },
      "source": [
        ""
      ],
      "execution_count": null,
      "outputs": []
    },
    {
      "cell_type": "markdown",
      "metadata": {
        "id": "VswlemPmZbVJ"
      },
      "source": [
        "## Trial 3"
      ]
    },
    {
      "cell_type": "code",
      "metadata": {
        "id": "GZz5dwg2ZcmU"
      },
      "source": [
        "#Pragya's Maekawa Algorithm\n",
        "def Maekawa_Prag(num_proc,R1,R2,R3,R4):\n",
        "    voted=['F' for i in range(num_proc)]\n",
        "    receive=[0 for i in range(num_proc)]\n",
        "    reply=[0 for i in range(num_proc)]\n",
        "    def REQUEST(proc_sno):\n",
        "        \n",
        "\n"
      ],
      "execution_count": null,
      "outputs": []
    },
    {
      "cell_type": "markdown",
      "metadata": {
        "id": "IGjt9GwU0aF6"
      },
      "source": [
        "# **18CSC401 — Parallel and Distributed Systems**\n",
        "### **Midterm Examination — 30th September 2021**\n",
        "# **Implementation of Maekawa and Ricart-Agrawala Algorithms**\n",
        "\n",
        "**Faculty:** <br>\n",
        "### **Dr. Prashant R Nair**\n",
        "**Associate Professor, Computer Science Engineering,**\n",
        "**Amrita School of Engineering, Coimbatore <br>**\n",
        "Vice Chairman, Internal Quality Assurance Cell (IQAC), Coimbatore <br>\n",
        "Coordinator, National Board of Accreditation (NBA) <br>\n",
        "<br>\n",
        "\n",
        "**Student Details:** \n",
        "### **Pragya Ananth**\n",
        "### **CB.SC.I5DAS18027**\n",
        "**Integrated M.Sc. Data Science <br>**"
      ]
    },
    {
      "cell_type": "markdown",
      "metadata": {
        "id": "Vz_H9Eo70QlQ"
      },
      "source": [
        "# Maekawa Algorithm"
      ]
    },
    {
      "cell_type": "markdown",
      "metadata": {
        "id": "FFWQ-0QEyeWS"
      },
      "source": [
        "Pragya's code"
      ]
    },
    {
      "cell_type": "code",
      "metadata": {
        "id": "jTyWqoB8w4mB"
      },
      "source": [
        "def Maekawa(R,p_i):\n",
        "    num=len(R)  \n",
        "    receive=[0 for i in range(num)]\n",
        "    release=[0 for i in range(num)]\n",
        "    voted=[0 for i in range(num)]\n",
        "\n",
        "    def REQUEST(p_i):\n",
        "        Ri=R[p_i]\n",
        "        for i in range(0,num):\n",
        "            if i in Ri:\n",
        "                receive[i]=1\n",
        "        print(\"Request invoked by process: \",p_i)\n",
        "        print(\"Request received by processes: \",receive)\n",
        "\n",
        "    def REPLY(receive,voted,p_i):\n",
        "        print(\"Before replying to process {}, the voted status of processes is: {}\".format(p_i,voted))\n",
        "        Ri=R[p_i]\n",
        "        for i in range(0,num):\n",
        "            if i in Ri:\n",
        "                voted[i]=1\n",
        "        print(\"Voted status after replying: \",voted)\n",
        "        if receive==voted:\n",
        "            return True\n",
        "        else: return False\n",
        "\n",
        "    REQUEST(p_i)\n",
        "    execution_signal=REPLY(receive,voted,p_i)\n",
        "    if execution_signal==True:\n",
        "        print(\"The process {} was able to access the critical section\".format(p_i))\n",
        "    else: \n",
        "        print(\"The process {} was not able to access the critical section as yet. It is queued.\".format(p_i))\n",
        "    \n",
        "    def RELEASE(p_i):\n",
        "        print(\"Accessing critical section completed, release process initiated now\")\n",
        "        Ri2=R[p_i]\n",
        "        for i in range(0,num):\n",
        "            if i in Ri2:\n",
        "                release[i]=1\n",
        "        print(\"Release invoked by process: \",p_i)\n",
        "        print(\"Release given by processes: \",release)\n",
        "    if execution_signal==True:\n",
        "        RELEASE(p_i)"
      ],
      "execution_count": null,
      "outputs": []
    },
    {
      "cell_type": "code",
      "metadata": {
        "id": "V2RDzyiKbqH9"
      },
      "source": [
        "#Trial main code\n",
        "req_set=[[0,1,3],\n",
        "[0,1,2],\n",
        "[1,2,3],\n",
        "[0,2,3]]\n",
        "#len(req_set)\n",
        "#req_set[2]"
      ],
      "execution_count": null,
      "outputs": []
    },
    {
      "cell_type": "code",
      "metadata": {
        "colab": {
          "base_uri": "https://localhost:8080/"
        },
        "id": "vlpw3Jm3ckQH",
        "outputId": "446be0ec-1d21-4419-878a-90ab97312812"
      },
      "source": [
        "Maekawa(req_set,0)"
      ],
      "execution_count": null,
      "outputs": [
        {
          "output_type": "stream",
          "name": "stdout",
          "text": [
            "Request invoked by process:  0\n",
            "Request received by processes:  [1, 1, 0, 1]\n",
            "Before replying to process 0, the voted status of processes is: [0, 0, 0, 0]\n",
            "Voted status after replying:  [1, 1, 0, 1]\n",
            "The process 0 was able to access the critical section\n",
            "Accessing critical section completed, release process initiated now\n",
            "Release invoked by process:  0\n",
            "Release given by processes:  [1, 1, 0, 1]\n"
          ]
        }
      ]
    },
    {
      "cell_type": "code",
      "metadata": {
        "id": "1ox3Ew1pXYtV"
      },
      "source": [
        ""
      ],
      "execution_count": null,
      "outputs": []
    },
    {
      "cell_type": "markdown",
      "metadata": {
        "id": "tlG3ZiDCzyDL"
      },
      "source": [
        "# Ricart-Agrawala Code"
      ]
    },
    {
      "cell_type": "markdown",
      "metadata": {
        "id": "lcIwigYwz0ZR"
      },
      "source": [
        "Pragya's code"
      ]
    },
    {
      "cell_type": "code",
      "metadata": {
        "id": "-3K4YxQLXYzi"
      },
      "source": [
        "def RicAgra(R,p_i):\n",
        "    num=len(R)  \n",
        "    receive=[0 for i in range(num)]\n",
        "    release=[0 for i in range(num)]\n",
        "    voted=[0 for i in range(num)]\n",
        "\n",
        "    def REQUEST(p_i):\n",
        "        Ri=R[p_i]\n",
        "        for i in range(0,num):\n",
        "            #if i in Ri:\n",
        "            receive[i]=1\n",
        "        print(\"Request invoked by process: \",p_i)\n",
        "        print(\"Request received by processes: \",receive)\n",
        "\n",
        "    def REPLY(receive,voted,p_i):\n",
        "        print(\"Before replying to process {}, the voted status of processes is: {}\".format(p_i,voted))\n",
        "        Ri=R[p_i]\n",
        "        for i in range(0,num):\n",
        "            #if i in Ri:\n",
        "            voted[i]=1\n",
        "        print(\"Voted status after replying: \",voted)\n",
        "        if receive==voted:\n",
        "            return True\n",
        "        else: return False\n",
        "\n",
        "    REQUEST(p_i)\n",
        "    execution_signal=REPLY(receive,voted,p_i)\n",
        "    if execution_signal==True:\n",
        "        print(\"The process {} was able to access the critical section\".format(p_i))\n",
        "    else: \n",
        "        print(\"The process {} was not able to access the critical section as yet. It is queued.\".format(p_i))\n",
        "    \n",
        "    def RELEASE(p_i):\n",
        "        print(\"Accessing critical section completed, release process initiated now\")\n",
        "        Ri2=R[p_i]\n",
        "        for i in range(0,num):\n",
        "            #if i in Ri2:\n",
        "            release[i]=1\n",
        "        print(\"Release invoked by process: \",p_i)\n",
        "        print(\"Release given by processes: \",release)\n",
        "    if execution_signal==True:\n",
        "        RELEASE(p_i)"
      ],
      "execution_count": null,
      "outputs": []
    },
    {
      "cell_type": "code",
      "metadata": {
        "id": "NbDeictzXY2W"
      },
      "source": [
        "#Trial main code\n",
        "req_set2=[[0,1,3],\n",
        "[0,1,2],\n",
        "[1,2,3],\n",
        "[0,2,3]]"
      ],
      "execution_count": null,
      "outputs": []
    },
    {
      "cell_type": "code",
      "metadata": {
        "colab": {
          "base_uri": "https://localhost:8080/"
        },
        "id": "_hNg4jsQ0F-R",
        "outputId": "d8af6d46-530a-4791-8569-cb5e1da83676"
      },
      "source": [
        "RicAgra(req_set2,3)"
      ],
      "execution_count": null,
      "outputs": [
        {
          "output_type": "stream",
          "name": "stdout",
          "text": [
            "Request invoked by process:  3\n",
            "Request received by processes:  [1, 1, 1, 1]\n",
            "Before replying to process 3, the voted status of processes is: [0, 0, 0, 0]\n",
            "Voted status after replying:  [1, 1, 1, 1]\n",
            "The process 3 was able to access the critical section\n",
            "Accessing critical section completed, release process initiated now\n",
            "Release invoked by process:  3\n",
            "Release given by processes:  [1, 1, 1, 1]\n"
          ]
        }
      ]
    },
    {
      "cell_type": "code",
      "metadata": {
        "id": "mPWdYMmW0GEN"
      },
      "source": [
        ""
      ],
      "execution_count": null,
      "outputs": []
    },
    {
      "cell_type": "code",
      "metadata": {
        "colab": {
          "base_uri": "https://localhost:8080/"
        },
        "id": "3Bra-cCpckVj",
        "outputId": "d25f1997-1b1d-4dc7-f9d5-bbeb79d4c1fe"
      },
      "source": [
        "voted=[['F' for i in range(3)] for i in range(3)]\n",
        "voted"
      ],
      "execution_count": null,
      "outputs": [
        {
          "output_type": "execute_result",
          "data": {
            "text/plain": [
              "[['F', 'F', 'F'], ['F', 'F', 'F'], ['F', 'F', 'F']]"
            ]
          },
          "metadata": {},
          "execution_count": 1
        }
      ]
    },
    {
      "cell_type": "code",
      "metadata": {
        "id": "g8rkHJppclNb"
      },
      "source": [
        "\n"
      ],
      "execution_count": null,
      "outputs": []
    }
  ]
}